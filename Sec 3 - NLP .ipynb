{
 "cells": [
  {
   "cell_type": "markdown",
   "id": "589b532b",
   "metadata": {},
   "source": [
    "# PDF merge "
   ]
  },
  {
   "cell_type": "code",
   "execution_count": 2,
   "id": "04f26b09",
   "metadata": {},
   "outputs": [],
   "source": [
    "from PyPDF2 import PdfFileMerger\n",
    "#Create an instance of PdfFileManager() class\n",
    "merger = PdfFileMerger()\n",
    "\n",
    "pdf_files= ['Idea-wow-effect.pdf', 'Brainstorming-SCAMPER-Tools.pdf']\n",
    "#Iterate over the list of file names\n",
    "for pdf_file in pdf_files:\n",
    "    #Append PDF files\n",
    "    merger.append(pdf_file)\n",
    "#write out the merged PDF\n",
    "merger.write(\"merged_file.pdf\")\n",
    "merger.close()   "
   ]
  },
  {
   "cell_type": "markdown",
   "id": "b42f48ae",
   "metadata": {},
   "source": [
    "# Number of pages in PDF"
   ]
  },
  {
   "cell_type": "code",
   "execution_count": 4,
   "id": "398055db",
   "metadata": {},
   "outputs": [
    {
     "name": "stdout",
     "output_type": "stream",
     "text": [
      "3\n"
     ]
    }
   ],
   "source": [
    "import PyPDF2 \n",
    "\n",
    "#Creating an object \n",
    "file = open('Idea-wow-effect.pdf', 'rb')\n",
    "\n",
    "#creating a pdf reader object\n",
    "fileReader = PyPDF2.PdfFileReader(file)\n",
    "\n",
    "#print the number of pages in the pdf file \n",
    "print(fileReader.numPages)"
   ]
  },
  {
   "cell_type": "markdown",
   "id": "d7973865",
   "metadata": {},
   "source": [
    "# re.match()"
   ]
  },
  {
   "cell_type": "code",
   "execution_count": 8,
   "id": "177f332e",
   "metadata": {},
   "outputs": [
    {
     "name": "stdout",
     "output_type": "stream",
     "text": [
      "No match\n"
     ]
    }
   ],
   "source": [
    "import re \n",
    "\n",
    "pattern = \"Hagar\"\n",
    "sequence = \"Hi Hagar, Hi Sara\"\n",
    "if re.match(pattern, sequence):\n",
    "    print(\"Match\")\n",
    "else:\n",
    "    print(\"No match\")"
   ]
  },
  {
   "cell_type": "code",
   "execution_count": 9,
   "id": "91fc7ae1",
   "metadata": {},
   "outputs": [
    {
     "name": "stdout",
     "output_type": "stream",
     "text": [
      "Match\n"
     ]
    }
   ],
   "source": [
    "import re \n",
    "\n",
    "pattern = \"Hagar\"\n",
    "sequence = \"Hagar, Hi Sara\"\n",
    "if re.match(pattern, sequence):\n",
    "    print(\"Match\")\n",
    "else:\n",
    "    print(\"No match\")"
   ]
  },
  {
   "cell_type": "markdown",
   "id": "5b312f20",
   "metadata": {},
   "source": [
    "# re.search()"
   ]
  },
  {
   "cell_type": "code",
   "execution_count": 10,
   "id": "f65dddfa",
   "metadata": {},
   "outputs": [
    {
     "name": "stdout",
     "output_type": "stream",
     "text": [
      "Yes! We have a match\n"
     ]
    }
   ],
   "source": [
    "import re \n",
    "\n",
    "txt = \"The rain in Spain\" \n",
    "x = re.search(\"^The.*Spain$\", txt)\n",
    "\n",
    "if x:\n",
    "    print(\"Yes! We have a match\")\n",
    "else:\n",
    "    print(\"No match\")"
   ]
  },
  {
   "cell_type": "code",
   "execution_count": 11,
   "id": "1c3fd81a",
   "metadata": {},
   "outputs": [
    {
     "name": "stdout",
     "output_type": "stream",
     "text": [
      "<re.Match object; span=(12, 17), match='Spain'>\n",
      "Spain\n"
     ]
    }
   ],
   "source": [
    "import re \n",
    "\n",
    "txt = \"The rain in Spain\" \n",
    "x = re.search(\"Spain\", txt)\n",
    "\n",
    "print(x)\n",
    "print(x.group(0))"
   ]
  },
  {
   "cell_type": "code",
   "execution_count": 12,
   "id": "2b6c6bed",
   "metadata": {},
   "outputs": [
    {
     "name": "stdout",
     "output_type": "stream",
     "text": [
      "<re.Match object; span=(12, 15), match='ssS'>\n",
      "ssS\n"
     ]
    }
   ],
   "source": [
    "import re \n",
    "\n",
    "txt = \"The rain in ssSpain\" \n",
    "x = re.search(\"..S\", txt)\n",
    "\n",
    "print(x)\n",
    "print(x.group(0))"
   ]
  },
  {
   "cell_type": "code",
   "execution_count": 13,
   "id": "cd9f866e",
   "metadata": {},
   "outputs": [
    {
     "name": "stdout",
     "output_type": "stream",
     "text": [
      "125\n",
      "RH\n"
     ]
    }
   ],
   "source": [
    "import re \n",
    "\n",
    "# \\d = digit char\n",
    "x = re.search(\"\\d\\d\\d\",\"R125l\")\n",
    "print(x.group(0))\n",
    "\n",
    "# \\w = word char\n",
    "x = re.search(\"\\w\\w\", \"@RH$G\")\n",
    "print(x.group(0))"
   ]
  },
  {
   "cell_type": "code",
   "execution_count": 14,
   "id": "723cb8b3",
   "metadata": {},
   "outputs": [
    {
     "name": "stdout",
     "output_type": "stream",
     "text": [
      "1 23   57\n",
      "1 2 3\n",
      "1 2  57\n"
     ]
    }
   ],
   "source": [
    "import re \n",
    "\n",
    "x = re.search(\"\\d\\s*\\d\\d\\s*\\d\\d\",\"xx1 23   57x\")\n",
    "print(x.group(0))\n",
    "\n",
    "x = re.search(\"\\d\\s*\\d\\s*\\d\",\"xx1 2 3   57x\")\n",
    "print(x.group(0))\n",
    "\n",
    "x = re.search(\"\\d\\s*\\d\\s*\\d\\d\",\"xx1 2  57x\")\n",
    "print(x.group(0))"
   ]
  },
  {
   "cell_type": "markdown",
   "id": "6384ace8",
   "metadata": {},
   "source": [
    "# re.findall()"
   ]
  },
  {
   "cell_type": "code",
   "execution_count": 15,
   "id": "7ba8cae7",
   "metadata": {},
   "outputs": [
    {
     "name": "stdout",
     "output_type": "stream",
     "text": [
      "['T', 'h', 'e', 'r', 'a', 'i', 'n', 'i', 'n', 'S', 'p', 'a', 'i', 'n']\n",
      "Yes! There is at least one match\n"
     ]
    }
   ],
   "source": [
    "import re \n",
    "\n",
    "txt = \"The rain in Spain\" \n",
    "x = re.findall(\"\\w\", txt)\n",
    "\n",
    "print(x)\n",
    "\n",
    "if x:\n",
    "    print(\"Yes! There is at least one match\")\n",
    "else:\n",
    "    print(\"No match\")"
   ]
  },
  {
   "cell_type": "code",
   "execution_count": 16,
   "id": "a759c5e3",
   "metadata": {},
   "outputs": [
    {
     "name": "stdout",
     "output_type": "stream",
     "text": [
      "['ai', 'ai']\n"
     ]
    }
   ],
   "source": [
    "import re \n",
    "\n",
    "txt = \"The rain in Spain\" \n",
    "x = re.findall(\"ai\", txt)\n",
    "\n",
    "print(x)"
   ]
  },
  {
   "cell_type": "markdown",
   "id": "2013fac4",
   "metadata": {},
   "source": [
    "# re.split()"
   ]
  },
  {
   "cell_type": "code",
   "execution_count": 17,
   "id": "29a82db2",
   "metadata": {},
   "outputs": [
    {
     "name": "stdout",
     "output_type": "stream",
     "text": [
      "['The', 'rain', 'in', 'Spain']\n"
     ]
    }
   ],
   "source": [
    "import re \n",
    "\n",
    "txt = \"The rain in Spain\" \n",
    "x = re.split(\"\\s\", txt)\n",
    "\n",
    "print(x)"
   ]
  },
  {
   "cell_type": "code",
   "execution_count": 18,
   "id": "8c0f9de9",
   "metadata": {},
   "outputs": [
    {
     "name": "stdout",
     "output_type": "stream",
     "text": [
      "['The', 'rain', 'in Spain']\n"
     ]
    }
   ],
   "source": [
    "import re \n",
    "\n",
    "txt = \"The rain in Spain\" \n",
    "x = re.split(\"\\s\", txt, 2)\n",
    "\n",
    "print(x)"
   ]
  },
  {
   "cell_type": "markdown",
   "id": "6088c3b2",
   "metadata": {},
   "source": [
    "# sub()"
   ]
  },
  {
   "cell_type": "code",
   "execution_count": 19,
   "id": "8ed8c3f3",
   "metadata": {},
   "outputs": [
    {
     "name": "stdout",
     "output_type": "stream",
     "text": [
      "The9rain9in9Spain\n"
     ]
    }
   ],
   "source": [
    "import re \n",
    "\n",
    "txt = \"The rain in Spain\" \n",
    "x = re.sub(\"\\s\",\"9\", txt)\n",
    "\n",
    "print(x)"
   ]
  },
  {
   "cell_type": "code",
   "execution_count": 20,
   "id": "87ec1c95",
   "metadata": {},
   "outputs": [
    {
     "name": "stdout",
     "output_type": "stream",
     "text": [
      "The9rain in Spain\n"
     ]
    }
   ],
   "source": [
    "import re \n",
    "\n",
    "txt = \"The rain in Spain\" \n",
    "x = re.sub(\"\\s\", \"9\", txt, 1)\n",
    "\n",
    "print(x)"
   ]
  }
 ],
 "metadata": {
  "kernelspec": {
   "display_name": "Python 3 (ipykernel)",
   "language": "python",
   "name": "python3"
  },
  "language_info": {
   "codemirror_mode": {
    "name": "ipython",
    "version": 3
   },
   "file_extension": ".py",
   "mimetype": "text/x-python",
   "name": "python",
   "nbconvert_exporter": "python",
   "pygments_lexer": "ipython3",
   "version": "3.9.12"
  }
 },
 "nbformat": 4,
 "nbformat_minor": 5
}
